{
 "cells": [
  {
   "cell_type": "code",
   "execution_count": 1,
   "metadata": {},
   "outputs": [
    {
     "name": "stderr",
     "output_type": "stream",
     "text": [
      "Using TensorFlow backend.\n"
     ]
    }
   ],
   "source": [
    "%load_ext autoreload\n",
    "%autoreload 2\n",
    "import pandas as pd\n",
    "from matplotlib import pyplot as plt\n",
    "import sqlite3\n",
    "import datetime\n",
    "import numpy as np\n",
    "import os\n",
    "from keras import backend as K\n",
    "import tensorflow as tf\n",
    "config = tf.ConfigProto()\n",
    "config.gpu_options.allow_growth=True\n",
    "sess = tf.Session(config=config)\n",
    "K.set_session(sess)"
   ]
  },
  {
   "cell_type": "code",
   "execution_count": 2,
   "metadata": {},
   "outputs": [],
   "source": [
    "#abro la conexión\n",
    "con = sqlite3.connect(\"database/ALUAR.db\")"
   ]
  },
  {
   "cell_type": "code",
   "execution_count": 3,
   "metadata": {},
   "outputs": [],
   "source": [
    "df2 = pd.read_sql_query(\"select FT_TURNO, TU_SEMI_TURNO, CUBA, HBD, WRMI, TFOIN, TFAIN, NDAL2O3, NTEA,NIANO from 'HITM_PS'\", con)"
   ]
  },
  {
   "cell_type": "code",
   "execution_count": 4,
   "metadata": {},
   "outputs": [],
   "source": [
    "df2[\"FT_TURNO\"] = df2[\"FT_TURNO\"].apply(lambda x:datetime.datetime.strptime(x, \"%Y-%m-%d %H:%M:%S\"))"
   ]
  },
  {
   "cell_type": "code",
   "execution_count": 5,
   "metadata": {},
   "outputs": [],
   "source": [
    "df2_index = df2.set_index([\"FT_TURNO\", \"TU_SEMI_TURNO\", \"CUBA\"])"
   ]
  },
  {
   "cell_type": "code",
   "execution_count": 6,
   "metadata": {},
   "outputs": [
    {
     "data": {
      "text/html": [
       "<div>\n",
       "<style scoped>\n",
       "    .dataframe tbody tr th:only-of-type {\n",
       "        vertical-align: middle;\n",
       "    }\n",
       "\n",
       "    .dataframe tbody tr th {\n",
       "        vertical-align: top;\n",
       "    }\n",
       "\n",
       "    .dataframe thead th {\n",
       "        text-align: right;\n",
       "    }\n",
       "</style>\n",
       "<table border=\"1\" class=\"dataframe\">\n",
       "  <thead>\n",
       "    <tr style=\"text-align: right;\">\n",
       "      <th></th>\n",
       "      <th></th>\n",
       "      <th></th>\n",
       "      <th>HBD</th>\n",
       "      <th>WRMI</th>\n",
       "      <th>TFOIN</th>\n",
       "      <th>TFAIN</th>\n",
       "      <th>NDAL2O3</th>\n",
       "      <th>NTEA</th>\n",
       "      <th>NIANO</th>\n",
       "    </tr>\n",
       "    <tr>\n",
       "      <th>FT_TURNO</th>\n",
       "      <th>TU_SEMI_TURNO</th>\n",
       "      <th>CUBA</th>\n",
       "      <th></th>\n",
       "      <th></th>\n",
       "      <th></th>\n",
       "      <th></th>\n",
       "      <th></th>\n",
       "      <th></th>\n",
       "      <th></th>\n",
       "    </tr>\n",
       "  </thead>\n",
       "  <tbody>\n",
       "    <tr>\n",
       "      <th rowspan=\"5\" valign=\"top\">2019-06-01</th>\n",
       "      <th rowspan=\"5\" valign=\"top\">1</th>\n",
       "      <th>501</th>\n",
       "      <td>18.0</td>\n",
       "      <td>52.0</td>\n",
       "      <td>0.0</td>\n",
       "      <td>0.0000</td>\n",
       "      <td>556.0</td>\n",
       "      <td>0.0</td>\n",
       "      <td>0</td>\n",
       "    </tr>\n",
       "    <tr>\n",
       "      <th>502</th>\n",
       "      <td>18.0</td>\n",
       "      <td>55.0</td>\n",
       "      <td>0.0</td>\n",
       "      <td>0.0000</td>\n",
       "      <td>526.0</td>\n",
       "      <td>0.0</td>\n",
       "      <td>0</td>\n",
       "    </tr>\n",
       "    <tr>\n",
       "      <th>503</th>\n",
       "      <td>18.0</td>\n",
       "      <td>53.0</td>\n",
       "      <td>0.0</td>\n",
       "      <td>0.0000</td>\n",
       "      <td>484.0</td>\n",
       "      <td>0.0</td>\n",
       "      <td>0</td>\n",
       "    </tr>\n",
       "    <tr>\n",
       "      <th>504</th>\n",
       "      <td>18.0</td>\n",
       "      <td>72.0</td>\n",
       "      <td>0.0</td>\n",
       "      <td>11.0116</td>\n",
       "      <td>548.0</td>\n",
       "      <td>0.0</td>\n",
       "      <td>0</td>\n",
       "    </tr>\n",
       "    <tr>\n",
       "      <th>505</th>\n",
       "      <td>15.0</td>\n",
       "      <td>68.0</td>\n",
       "      <td>0.0</td>\n",
       "      <td>0.0000</td>\n",
       "      <td>516.0</td>\n",
       "      <td>0.0</td>\n",
       "      <td>0</td>\n",
       "    </tr>\n",
       "  </tbody>\n",
       "</table>\n",
       "</div>"
      ],
      "text/plain": [
       "                                HBD  WRMI  TFOIN    TFAIN  NDAL2O3  NTEA  \\\n",
       "FT_TURNO   TU_SEMI_TURNO CUBA                                              \n",
       "2019-06-01 1             501   18.0  52.0    0.0   0.0000    556.0   0.0   \n",
       "                         502   18.0  55.0    0.0   0.0000    526.0   0.0   \n",
       "                         503   18.0  53.0    0.0   0.0000    484.0   0.0   \n",
       "                         504   18.0  72.0    0.0  11.0116    548.0   0.0   \n",
       "                         505   15.0  68.0    0.0   0.0000    516.0   0.0   \n",
       "\n",
       "                               NIANO  \n",
       "FT_TURNO   TU_SEMI_TURNO CUBA         \n",
       "2019-06-01 1             501       0  \n",
       "                         502       0  \n",
       "                         503       0  \n",
       "                         504       0  \n",
       "                         505       0  "
      ]
     },
     "execution_count": 6,
     "metadata": {},
     "output_type": "execute_result"
    }
   ],
   "source": [
    "df2_index.head()"
   ]
  },
  {
   "cell_type": "code",
   "execution_count": 7,
   "metadata": {},
   "outputs": [
    {
     "name": "stderr",
     "output_type": "stream",
     "text": [
      "/home/cselmo/miniconda3/envs/CV/lib/python3.7/site-packages/pandas/plotting/_converter.py:129: FutureWarning: Using an implicitly registered datetime converter for a matplotlib plotting method. The converter was registered by pandas on import. Future versions of pandas will require you to explicitly register matplotlib converters.\n",
      "\n",
      "To register the converters:\n",
      "\t>>> from pandas.plotting import register_matplotlib_converters\n",
      "\t>>> register_matplotlib_converters()\n",
      "  warnings.warn(msg, FutureWarning)\n"
     ]
    },
    {
     "data": {
      "image/png": "[encoded data removed]",
      "text/plain": [
       "<Figure size 432x288 with 1 Axes>"
      ]
     },
     "metadata": {
      "needs_background": "light"
     },
     "output_type": "display_data"
    }
   ],
   "source": [
    "plt.plot(df2_index.index.unique(level=\"FT_TURNO\").values)\n",
    "plt.show()"
   ]
  },
  {
   "cell_type": "code",
   "execution_count": 8,
   "metadata": {},
   "outputs": [],
   "source": [
    "cubas = df2_index.index.levels[2]"
   ]
  },
  {
   "cell_type": "code",
   "execution_count": 9,
   "metadata": {},
   "outputs": [
    {
     "data": {
      "text/plain": [
       "480"
      ]
     },
     "execution_count": 9,
     "metadata": {},
     "output_type": "execute_result"
    }
   ],
   "source": [
    "len(cubas)"
   ]
  },
  {
   "cell_type": "markdown",
   "metadata": {},
   "source": [
    "# Saco las cubas con NaNs"
   ]
  },
  {
   "cell_type": "code",
   "execution_count": 10,
   "metadata": {},
   "outputs": [],
   "source": [
    "idx = pd.IndexSlice\n",
    "to_drop = []\n",
    "for cuba in cubas:\n",
    "    cant_datos = len(df2_index.loc[idx[:,:, cuba], [\"WRMI\"]])\n",
    "    cant_nans = (df2_index.loc[idx[:,:, cuba], [\"WRMI\"]].isna()==True).sum()[\"WRMI\"]\n",
    "    if cant_nans:\n",
    "        to_drop.append(cuba)"
   ]
  },
  {
   "cell_type": "code",
   "execution_count": 11,
   "metadata": {},
   "outputs": [],
   "source": [
    "df2_index.drop(index=to_drop, level=2,inplace=True)\n"
   ]
  },
  {
   "cell_type": "code",
   "execution_count": 12,
   "metadata": {},
   "outputs": [
    {
     "data": {
      "text/plain": [
       "347"
      ]
     },
     "execution_count": 12,
     "metadata": {},
     "output_type": "execute_result"
    }
   ],
   "source": [
    "len(df2_index.index.unique(level=\"CUBA\"))"
   ]
  },
  {
   "cell_type": "code",
   "execution_count": 13,
   "metadata": {},
   "outputs": [
    {
     "data": {
      "text/plain": [
       "(445548, 7)"
      ]
     },
     "execution_count": 13,
     "metadata": {},
     "output_type": "execute_result"
    }
   ],
   "source": [
    "df2_index.values.shape"
   ]
  },
  {
   "cell_type": "code",
   "execution_count": 14,
   "metadata": {},
   "outputs": [],
   "source": [
    "for cuba in df2_index.index.unique(level=\"CUBA\"):\n",
    "    df2_index.loc[idx[:,:,cuba],:] = df2_index.loc[idx[:,:,cuba],:].fillna(method = \"bfill\")"
   ]
  },
  {
   "cell_type": "code",
   "execution_count": 15,
   "metadata": {},
   "outputs": [
    {
     "data": {
      "image/png": "[encoded data removed]",
      "text/plain": [
       "<Figure size 864x864 with 9 Axes>"
      ]
     },
     "metadata": {
      "needs_background": "light"
     },
     "output_type": "display_data"
    }
   ],
   "source": [
    "df2_index.hist(bins=100,figsize=[12,12])\n",
    "plt.show()"
   ]
  },
  {
   "cell_type": "code",
   "execution_count": 16,
   "metadata": {},
   "outputs": [],
   "source": [
    "df2_index[\"TFAIN_label\"] = df2_index[\"TFAIN\"]>1"
   ]
  },
  {
   "cell_type": "code",
   "execution_count": 17,
   "metadata": {},
   "outputs": [
    {
     "data": {
      "text/html": [
       "<div>\n",
       "<style scoped>\n",
       "    .dataframe tbody tr th:only-of-type {\n",
       "        vertical-align: middle;\n",
       "    }\n",
       "\n",
       "    .dataframe tbody tr th {\n",
       "        vertical-align: top;\n",
       "    }\n",
       "\n",
       "    .dataframe thead th {\n",
       "        text-align: right;\n",
       "    }\n",
       "</style>\n",
       "<table border=\"1\" class=\"dataframe\">\n",
       "  <thead>\n",
       "    <tr style=\"text-align: right;\">\n",
       "      <th></th>\n",
       "      <th>HBD</th>\n",
       "      <th>WRMI</th>\n",
       "      <th>TFOIN</th>\n",
       "      <th>TFAIN</th>\n",
       "      <th>NDAL2O3</th>\n",
       "      <th>NTEA</th>\n",
       "      <th>NIANO</th>\n",
       "      <th>TFAIN_label</th>\n",
       "    </tr>\n",
       "  </thead>\n",
       "  <tbody>\n",
       "    <tr>\n",
       "      <th>HBD</th>\n",
       "      <td>1.000000</td>\n",
       "      <td>0.044048</td>\n",
       "      <td>0.005260</td>\n",
       "      <td>0.056617</td>\n",
       "      <td>0.026560</td>\n",
       "      <td>0.017025</td>\n",
       "      <td>0.005850</td>\n",
       "      <td>0.067547</td>\n",
       "    </tr>\n",
       "    <tr>\n",
       "      <th>WRMI</th>\n",
       "      <td>0.044048</td>\n",
       "      <td>1.000000</td>\n",
       "      <td>0.458403</td>\n",
       "      <td>0.626142</td>\n",
       "      <td>-0.002736</td>\n",
       "      <td>0.109410</td>\n",
       "      <td>0.110382</td>\n",
       "      <td>0.555057</td>\n",
       "    </tr>\n",
       "    <tr>\n",
       "      <th>TFOIN</th>\n",
       "      <td>0.005260</td>\n",
       "      <td>0.458403</td>\n",
       "      <td>1.000000</td>\n",
       "      <td>0.537261</td>\n",
       "      <td>-0.000099</td>\n",
       "      <td>0.070788</td>\n",
       "      <td>0.082587</td>\n",
       "      <td>0.351617</td>\n",
       "    </tr>\n",
       "    <tr>\n",
       "      <th>TFAIN</th>\n",
       "      <td>0.056617</td>\n",
       "      <td>0.626142</td>\n",
       "      <td>0.537261</td>\n",
       "      <td>1.000000</td>\n",
       "      <td>0.033915</td>\n",
       "      <td>0.039680</td>\n",
       "      <td>0.084012</td>\n",
       "      <td>0.775887</td>\n",
       "    </tr>\n",
       "    <tr>\n",
       "      <th>NDAL2O3</th>\n",
       "      <td>0.026560</td>\n",
       "      <td>-0.002736</td>\n",
       "      <td>-0.000099</td>\n",
       "      <td>0.033915</td>\n",
       "      <td>1.000000</td>\n",
       "      <td>0.145942</td>\n",
       "      <td>-0.083163</td>\n",
       "      <td>0.048412</td>\n",
       "    </tr>\n",
       "    <tr>\n",
       "      <th>NTEA</th>\n",
       "      <td>0.017025</td>\n",
       "      <td>0.109410</td>\n",
       "      <td>0.070788</td>\n",
       "      <td>0.039680</td>\n",
       "      <td>0.145942</td>\n",
       "      <td>1.000000</td>\n",
       "      <td>0.008271</td>\n",
       "      <td>0.054945</td>\n",
       "    </tr>\n",
       "    <tr>\n",
       "      <th>NIANO</th>\n",
       "      <td>0.005850</td>\n",
       "      <td>0.110382</td>\n",
       "      <td>0.082587</td>\n",
       "      <td>0.084012</td>\n",
       "      <td>-0.083163</td>\n",
       "      <td>0.008271</td>\n",
       "      <td>1.000000</td>\n",
       "      <td>0.118656</td>\n",
       "    </tr>\n",
       "    <tr>\n",
       "      <th>TFAIN_label</th>\n",
       "      <td>0.067547</td>\n",
       "      <td>0.555057</td>\n",
       "      <td>0.351617</td>\n",
       "      <td>0.775887</td>\n",
       "      <td>0.048412</td>\n",
       "      <td>0.054945</td>\n",
       "      <td>0.118656</td>\n",
       "      <td>1.000000</td>\n",
       "    </tr>\n",
       "  </tbody>\n",
       "</table>\n",
       "</div>"
      ],
      "text/plain": [
       "                  HBD      WRMI     TFOIN     TFAIN   NDAL2O3      NTEA  \\\n",
       "HBD          1.000000  0.044048  0.005260  0.056617  0.026560  0.017025   \n",
       "WRMI         0.044048  1.000000  0.458403  0.626142 -0.002736  0.109410   \n",
       "TFOIN        0.005260  0.458403  1.000000  0.537261 -0.000099  0.070788   \n",
       "TFAIN        0.056617  0.626142  0.537261  1.000000  0.033915  0.039680   \n",
       "NDAL2O3      0.026560 -0.002736 -0.000099  0.033915  1.000000  0.145942   \n",
       "NTEA         0.017025  0.109410  0.070788  0.039680  0.145942  1.000000   \n",
       "NIANO        0.005850  0.110382  0.082587  0.084012 -0.083163  0.008271   \n",
       "TFAIN_label  0.067547  0.555057  0.351617  0.775887  0.048412  0.054945   \n",
       "\n",
       "                NIANO  TFAIN_label  \n",
       "HBD          0.005850     0.067547  \n",
       "WRMI         0.110382     0.555057  \n",
       "TFOIN        0.082587     0.351617  \n",
       "TFAIN        0.084012     0.775887  \n",
       "NDAL2O3     -0.083163     0.048412  \n",
       "NTEA         0.008271     0.054945  \n",
       "NIANO        1.000000     0.118656  \n",
       "TFAIN_label  0.118656     1.000000  "
      ]
     },
     "execution_count": 17,
     "metadata": {},
     "output_type": "execute_result"
    }
   ],
   "source": [
    "df2_index.corr()"
   ]
  },
  {
   "cell_type": "markdown",
   "metadata": {},
   "source": [
    "# Entreno con algunas cubas, testeo con otras\n",
    "\n",
    "Clasifico TFAIN_label en función de HBD, WRMI, TFOIN, NDAL2O3 y NTEA"
   ]
  },
  {
   "cell_type": "code",
   "execution_count": 18,
   "metadata": {},
   "outputs": [
    {
     "name": "stdout",
     "output_type": "stream",
     "text": [
      "347\n"
     ]
    }
   ],
   "source": [
    "cubas = df2_index.index.unique(level=\"CUBA\")\n",
    "print(len(cubas))"
   ]
  },
  {
   "cell_type": "code",
   "execution_count": 19,
   "metadata": {},
   "outputs": [],
   "source": [
    "p_train = 0.8\n",
    "rand_numbers = np.random.rand(347)\n",
    "mask_train =rand_numbers < p_train\n",
    "mask_test =rand_numbers >= p_train"
   ]
  },
  {
   "cell_type": "code",
   "execution_count": 20,
   "metadata": {},
   "outputs": [],
   "source": [
    "df = df2_index.loc[idx[:,:,501],[\"HBD\", \"WRMI\",\"TFOIN\",\"NDAL2O3\",\"NTEA\", \"TFAIN_label\"]]"
   ]
  },
  {
   "cell_type": "code",
   "execution_count": 21,
   "metadata": {},
   "outputs": [
    {
     "data": {
      "text/html": [
       "<div>\n",
       "<style scoped>\n",
       "    .dataframe tbody tr th:only-of-type {\n",
       "        vertical-align: middle;\n",
       "    }\n",
       "\n",
       "    .dataframe tbody tr th {\n",
       "        vertical-align: top;\n",
       "    }\n",
       "\n",
       "    .dataframe thead th {\n",
       "        text-align: right;\n",
       "    }\n",
       "</style>\n",
       "<table border=\"1\" class=\"dataframe\">\n",
       "  <thead>\n",
       "    <tr style=\"text-align: right;\">\n",
       "      <th></th>\n",
       "      <th></th>\n",
       "      <th></th>\n",
       "      <th>HBD</th>\n",
       "      <th>WRMI</th>\n",
       "      <th>TFOIN</th>\n",
       "      <th>NDAL2O3</th>\n",
       "      <th>NTEA</th>\n",
       "      <th>TFAIN_label</th>\n",
       "    </tr>\n",
       "    <tr>\n",
       "      <th>FT_TURNO</th>\n",
       "      <th>TU_SEMI_TURNO</th>\n",
       "      <th>CUBA</th>\n",
       "      <th></th>\n",
       "      <th></th>\n",
       "      <th></th>\n",
       "      <th></th>\n",
       "      <th></th>\n",
       "      <th></th>\n",
       "    </tr>\n",
       "  </thead>\n",
       "  <tbody>\n",
       "    <tr>\n",
       "      <th rowspan=\"5\" valign=\"top\">2019-06-01</th>\n",
       "      <th>1</th>\n",
       "      <th>501</th>\n",
       "      <td>18.0</td>\n",
       "      <td>52.0</td>\n",
       "      <td>0.0</td>\n",
       "      <td>556.0</td>\n",
       "      <td>0.0</td>\n",
       "      <td>False</td>\n",
       "    </tr>\n",
       "    <tr>\n",
       "      <th>2</th>\n",
       "      <th>501</th>\n",
       "      <td>18.0</td>\n",
       "      <td>54.0</td>\n",
       "      <td>0.0</td>\n",
       "      <td>585.0</td>\n",
       "      <td>0.0</td>\n",
       "      <td>False</td>\n",
       "    </tr>\n",
       "    <tr>\n",
       "      <th>3</th>\n",
       "      <th>501</th>\n",
       "      <td>18.0</td>\n",
       "      <td>56.0</td>\n",
       "      <td>0.0</td>\n",
       "      <td>595.0</td>\n",
       "      <td>0.0</td>\n",
       "      <td>False</td>\n",
       "    </tr>\n",
       "    <tr>\n",
       "      <th>4</th>\n",
       "      <th>501</th>\n",
       "      <td>18.0</td>\n",
       "      <td>55.0</td>\n",
       "      <td>0.0</td>\n",
       "      <td>571.0</td>\n",
       "      <td>0.0</td>\n",
       "      <td>False</td>\n",
       "    </tr>\n",
       "    <tr>\n",
       "      <th>5</th>\n",
       "      <th>501</th>\n",
       "      <td>18.0</td>\n",
       "      <td>53.0</td>\n",
       "      <td>0.0</td>\n",
       "      <td>523.0</td>\n",
       "      <td>0.0</td>\n",
       "      <td>False</td>\n",
       "    </tr>\n",
       "  </tbody>\n",
       "</table>\n",
       "</div>"
      ],
      "text/plain": [
       "                                HBD  WRMI  TFOIN  NDAL2O3  NTEA  TFAIN_label\n",
       "FT_TURNO   TU_SEMI_TURNO CUBA                                               \n",
       "2019-06-01 1             501   18.0  52.0    0.0    556.0   0.0        False\n",
       "           2             501   18.0  54.0    0.0    585.0   0.0        False\n",
       "           3             501   18.0  56.0    0.0    595.0   0.0        False\n",
       "           4             501   18.0  55.0    0.0    571.0   0.0        False\n",
       "           5             501   18.0  53.0    0.0    523.0   0.0        False"
      ]
     },
     "execution_count": 21,
     "metadata": {},
     "output_type": "execute_result"
    }
   ],
   "source": [
    "df.head()"
   ]
  },
  {
   "cell_type": "code",
   "execution_count": 22,
   "metadata": {},
   "outputs": [],
   "source": [
    "cubas_train = cubas[mask_train]\n",
    "cubas_test = cubas[mask_test]"
   ]
  },
  {
   "cell_type": "code",
   "execution_count": 23,
   "metadata": {},
   "outputs": [
    {
     "data": {
      "text/plain": [
       "284"
      ]
     },
     "execution_count": 23,
     "metadata": {},
     "output_type": "execute_result"
    }
   ],
   "source": [
    "len(cubas_train)"
   ]
  },
  {
   "cell_type": "code",
   "execution_count": 24,
   "metadata": {},
   "outputs": [
    {
     "data": {
      "text/plain": [
       "63"
      ]
     },
     "execution_count": 24,
     "metadata": {},
     "output_type": "execute_result"
    }
   ],
   "source": [
    "len(cubas_test)"
   ]
  },
  {
   "cell_type": "code",
   "execution_count": 25,
   "metadata": {},
   "outputs": [],
   "source": [
    "idx = pd.IndexSlice\n",
    "T = 50\n",
    "X_train  = list()\n",
    "y_train = list()\n",
    "for cuba in cubas_train:\n",
    "    array= df2_index.loc[idx[:,:,cuba],[\"HBD\", \"WRMI\",\"TFOIN\",\"NDAL2O3\",\"NTEA\", \"TFAIN_label\"]].values\n",
    "    for t_idx in range(array.shape[0]-T+1):\n",
    "        X_train.append(array[t_idx:t_idx+T,:-1])\n",
    "        y_train.append(array[t_idx+T-1,-1])\n",
    "X_train = np.array(X_train)\n",
    "y_train = np.array(y_train)"
   ]
  },
  {
   "cell_type": "code",
   "execution_count": 26,
   "metadata": {},
   "outputs": [
    {
     "data": {
      "text/plain": [
       "(350740, 50, 5)"
      ]
     },
     "execution_count": 26,
     "metadata": {},
     "output_type": "execute_result"
    }
   ],
   "source": [
    "X_train.shape"
   ]
  },
  {
   "cell_type": "code",
   "execution_count": 27,
   "metadata": {},
   "outputs": [
    {
     "data": {
      "text/plain": [
       "0.14747961452928096"
      ]
     },
     "execution_count": 27,
     "metadata": {},
     "output_type": "execute_result"
    }
   ],
   "source": [
    "sum(y_train)/len(y_train)"
   ]
  },
  {
   "cell_type": "code",
   "execution_count": 28,
   "metadata": {},
   "outputs": [
    {
     "data": {
      "image/png": "[encoded data removed]",
      "text/plain": [
       "<Figure size 432x288 with 1 Axes>"
      ]
     },
     "metadata": {
      "needs_background": "light"
     },
     "output_type": "display_data"
    }
   ],
   "source": [
    "n = 0\n",
    "plt.plot(X_train[n])\n",
    "plt.title(f'{y_train[n]}')\n",
    "plt.show()"
   ]
  },
  {
   "cell_type": "code",
   "execution_count": 29,
   "metadata": {},
   "outputs": [],
   "source": [
    "idx = pd.IndexSlice\n",
    "T = 50\n",
    "X_test  = list()\n",
    "y_test = list()\n",
    "for cuba in cubas_test:\n",
    "    array=df = df2_index.loc[idx[:,:,cuba],[\"HBD\", \"WRMI\",\"TFOIN\",\"NDAL2O3\",\"NTEA\", \"TFAIN_label\"]].values\n",
    "    for t_idx in range(array.shape[0]-T+1):\n",
    "        X_test.append(array[t_idx:t_idx+T,:-1])\n",
    "        y_test.append(array[t_idx+T-1,-1])\n",
    "X_test = np.array(X_test)\n",
    "y_test = np.array(y_test)"
   ]
  },
  {
   "cell_type": "code",
   "execution_count": 30,
   "metadata": {},
   "outputs": [
    {
     "data": {
      "image/png": "[encoded data removed]",
      "text/plain": [
       "<Figure size 432x288 with 1 Axes>"
      ]
     },
     "metadata": {
      "needs_background": "light"
     },
     "output_type": "display_data"
    }
   ],
   "source": [
    "plt.plot(X_train[0])\n",
    "plt.show()"
   ]
  },
  {
   "cell_type": "code",
   "execution_count": 31,
   "metadata": {},
   "outputs": [
    {
     "data": {
      "text/plain": [
       "0.1697705802968961"
      ]
     },
     "execution_count": 31,
     "metadata": {},
     "output_type": "execute_result"
    }
   ],
   "source": [
    "sum(y_test)/len(y_test)"
   ]
  },
  {
   "cell_type": "code",
   "execution_count": 37,
   "metadata": {},
   "outputs": [],
   "source": [
    "from keras.layers import Conv1D, Flatten, Dense, MaxPool1D, BatchNormalization, Dropout, Activation\n",
    "from keras.models import Sequential\n",
    "from keras.callbacks import EarlyStopping, ReduceLROnPlateau, ModelCheckpoint\n",
    "es = EarlyStopping(monitor=\"val_accuracy\", patience= 5, verbose=1)\n",
    "mcp = ModelCheckpoint(\"best_weights.hdf5\", monitor=\"val_accuracy\",verbose=1, save_best_only=True)\n",
    "rlr = ReduceLROnPlateau(monitor=\"val_accuracy\", factor=0.1, patience=2, verbose=1)"
   ]
  },
  {
   "cell_type": "code",
   "execution_count": 38,
   "metadata": {},
   "outputs": [],
   "source": [
    "model = Sequential()\n",
    "model.add(BatchNormalization(input_shape=(50,5)))\n",
    "model.add(Conv1D(filters = 100, kernel_size= 3, strides=1, padding=\"valid\"))\n",
    "model.add(BatchNormalization())\n",
    "model.add(Activation(\"relu\"))\n",
    "model.add(Conv1D(filters = 100, kernel_size= 3, strides=1, padding=\"valid\", dilation_rate=2))\n",
    "model.add(BatchNormalization())\n",
    "model.add(Activation(\"relu\"))\n",
    "model.add(Conv1D(filters = 100, kernel_size= 3, strides=1, padding=\"valid\", dilation_rate=4))\n",
    "model.add(BatchNormalization())\n",
    "model.add(Activation(\"relu\"))\n",
    "model.add(Flatten())\n",
    "model.add(Dense(100, activation=\"relu\"))\n",
    "model.add(Dense(20, activation=\"relu\"))\n",
    "model.add(Dense(1, activation=\"sigmoid\"))"
   ]
  },
  {
   "cell_type": "code",
   "execution_count": 39,
   "metadata": {},
   "outputs": [],
   "source": [
    "model.compile(loss=\"binary_crossentropy\", metrics=[\"accuracy\"], optimizer=\"adam\")"
   ]
  },
  {
   "cell_type": "code",
   "execution_count": 40,
   "metadata": {},
   "outputs": [
    {
     "name": "stdout",
     "output_type": "stream",
     "text": [
      "Model: \"sequential_2\"\n",
      "_________________________________________________________________\n",
      "Layer (type)                 Output Shape              Param #   \n",
      "=================================================================\n",
      "batch_normalization_5 (Batch (None, 50, 5)             20        \n",
      "_________________________________________________________________\n",
      "conv1d_4 (Conv1D)            (None, 48, 100)           1600      \n",
      "_________________________________________________________________\n",
      "batch_normalization_6 (Batch (None, 48, 100)           400       \n",
      "_________________________________________________________________\n",
      "activation_4 (Activation)    (None, 48, 100)           0         \n",
      "_________________________________________________________________\n",
      "conv1d_5 (Conv1D)            (None, 44, 100)           30100     \n",
      "_________________________________________________________________\n",
      "batch_normalization_7 (Batch (None, 44, 100)           400       \n",
      "_________________________________________________________________\n",
      "activation_5 (Activation)    (None, 44, 100)           0         \n",
      "_________________________________________________________________\n",
      "conv1d_6 (Conv1D)            (None, 36, 100)           30100     \n",
      "_________________________________________________________________\n",
      "batch_normalization_8 (Batch (None, 36, 100)           400       \n",
      "_________________________________________________________________\n",
      "activation_6 (Activation)    (None, 36, 100)           0         \n",
      "_________________________________________________________________\n",
      "flatten_2 (Flatten)          (None, 3600)              0         \n",
      "_________________________________________________________________\n",
      "dense_3 (Dense)              (None, 100)               360100    \n",
      "_________________________________________________________________\n",
      "dense_4 (Dense)              (None, 20)                2020      \n",
      "_________________________________________________________________\n",
      "dense_5 (Dense)              (None, 1)                 21        \n",
      "=================================================================\n",
      "Total params: 425,161\n",
      "Trainable params: 424,551\n",
      "Non-trainable params: 610\n",
      "_________________________________________________________________\n"
     ]
    }
   ],
   "source": [
    "model.summary()"
   ]
  },
  {
   "cell_type": "code",
   "execution_count": 41,
   "metadata": {},
   "outputs": [
    {
     "name": "stdout",
     "output_type": "stream",
     "text": [
      "Train on 350740 samples, validate on 77805 samples\n",
      "Epoch 1/100\n",
      "350740/350740 [==============================] - 70s 201us/step - loss: 0.1642 - accuracy: 0.9358 - val_loss: 0.1683 - val_accuracy: 0.9317\n",
      "\n",
      "Epoch 00001: val_accuracy improved from -inf to 0.93170, saving model to best_weights.hdf5\n",
      "Epoch 2/100\n",
      "350740/350740 [==============================] - 72s 205us/step - loss: 0.1493 - accuracy: 0.9407 - val_loss: 0.1590 - val_accuracy: 0.9359\n",
      "\n",
      "Epoch 00002: val_accuracy improved from 0.93170 to 0.93585, saving model to best_weights.hdf5\n",
      "Epoch 3/100\n",
      "350740/350740 [==============================] - 74s 212us/step - loss: 0.1453 - accuracy: 0.9422 - val_loss: 0.1552 - val_accuracy: 0.9382\n",
      "\n",
      "Epoch 00003: val_accuracy improved from 0.93585 to 0.93817, saving model to best_weights.hdf5\n",
      "Epoch 4/100\n",
      "350740/350740 [==============================] - 73s 207us/step - loss: 0.1421 - accuracy: 0.9436 - val_loss: 0.1816 - val_accuracy: 0.9245\n",
      "\n",
      "Epoch 00004: val_accuracy did not improve from 0.93817\n",
      "Epoch 5/100\n",
      "350740/350740 [==============================] - 72s 206us/step - loss: 0.1395 - accuracy: 0.9445 - val_loss: 0.1616 - val_accuracy: 0.9364\n",
      "\n",
      "Epoch 00005: ReduceLROnPlateau reducing learning rate to 0.00010000000474974513.\n",
      "\n",
      "Epoch 00005: val_accuracy did not improve from 0.93817\n",
      "Epoch 6/100\n",
      "350740/350740 [==============================] - 69s 197us/step - loss: 0.1313 - accuracy: 0.9474 - val_loss: 0.1523 - val_accuracy: 0.9390\n",
      "\n",
      "Epoch 00006: val_accuracy improved from 0.93817 to 0.93898, saving model to best_weights.hdf5\n",
      "Epoch 7/100\n",
      "350740/350740 [==============================] - 71s 204us/step - loss: 0.1293 - accuracy: 0.9483 - val_loss: 0.1518 - val_accuracy: 0.9390\n",
      "\n",
      "Epoch 00007: val_accuracy improved from 0.93898 to 0.93901, saving model to best_weights.hdf5\n",
      "Epoch 8/100\n",
      "350740/350740 [==============================] - 72s 206us/step - loss: 0.1283 - accuracy: 0.9486 - val_loss: 0.1504 - val_accuracy: 0.9392\n",
      "\n",
      "Epoch 00008: val_accuracy improved from 0.93901 to 0.93922, saving model to best_weights.hdf5\n",
      "Epoch 9/100\n",
      "350740/350740 [==============================] - 71s 201us/step - loss: 0.1273 - accuracy: 0.9487 - val_loss: 0.1508 - val_accuracy: 0.9395\n",
      "\n",
      "Epoch 00009: val_accuracy improved from 0.93922 to 0.93949, saving model to best_weights.hdf5\n",
      "Epoch 10/100\n",
      "350740/350740 [==============================] - 68s 195us/step - loss: 0.1266 - accuracy: 0.9494 - val_loss: 0.1510 - val_accuracy: 0.9398\n",
      "\n",
      "Epoch 00010: val_accuracy improved from 0.93949 to 0.93981, saving model to best_weights.hdf5\n",
      "Epoch 11/100\n",
      "350740/350740 [==============================] - 65s 186us/step - loss: 0.1256 - accuracy: 0.9495 - val_loss: 0.1517 - val_accuracy: 0.9398\n",
      "\n",
      "Epoch 00011: val_accuracy did not improve from 0.93981\n",
      "Epoch 12/100\n",
      "350740/350740 [==============================] - 65s 186us/step - loss: 0.1247 - accuracy: 0.9498 - val_loss: 0.1522 - val_accuracy: 0.9396\n",
      "\n",
      "Epoch 00012: ReduceLROnPlateau reducing learning rate to 1.0000000474974514e-05.\n",
      "\n",
      "Epoch 00012: val_accuracy did not improve from 0.93981\n",
      "Epoch 13/100\n",
      "350740/350740 [==============================] - 68s 193us/step - loss: 0.1233 - accuracy: 0.9501 - val_loss: 0.1527 - val_accuracy: 0.9394\n",
      "\n",
      "Epoch 00013: val_accuracy did not improve from 0.93981\n",
      "Epoch 14/100\n",
      "350740/350740 [==============================] - 67s 192us/step - loss: 0.1225 - accuracy: 0.9508 - val_loss: 0.1527 - val_accuracy: 0.9394\n",
      "\n",
      "Epoch 00014: ReduceLROnPlateau reducing learning rate to 1.0000000656873453e-06.\n",
      "\n",
      "Epoch 00014: val_accuracy did not improve from 0.93981\n",
      "Epoch 15/100\n",
      "350740/350740 [==============================] - 67s 190us/step - loss: 0.1225 - accuracy: 0.9506 - val_loss: 0.1534 - val_accuracy: 0.9390\n",
      "\n",
      "Epoch 00015: val_accuracy did not improve from 0.93981\n",
      "Epoch 00015: early stopping\n"
     ]
    },
    {
     "data": {
      "text/plain": [
       "<keras.callbacks.callbacks.History at 0x7f41c6854f50>"
      ]
     },
     "execution_count": 41,
     "metadata": {},
     "output_type": "execute_result"
    }
   ],
   "source": [
    "model.fit(x=X_train, y=y_train,callbacks=[es, rlr,mcp], validation_data=(X_test, y_test),epochs=100)"
   ]
  },
  {
   "cell_type": "code",
   "execution_count": 42,
   "metadata": {},
   "outputs": [],
   "source": [
    "model.load_weights(\"best_weights.hdf5\")"
   ]
  },
  {
   "cell_type": "code",
   "execution_count": 43,
   "metadata": {},
   "outputs": [
    {
     "name": "stdout",
     "output_type": "stream",
     "text": [
      "77805/77805 [==============================] - 4s 53us/step\n"
     ]
    },
    {
     "data": {
      "text/plain": [
       "[0.15104781078894644, 0.9398110508918762]"
      ]
     },
     "execution_count": 43,
     "metadata": {},
     "output_type": "execute_result"
    }
   ],
   "source": [
    "model.evaluate(X_test,y_test)"
   ]
  },
  {
   "cell_type": "code",
   "execution_count": 44,
   "metadata": {},
   "outputs": [],
   "source": [
    "y_pred = model.predict(X_test)"
   ]
  },
  {
   "cell_type": "code",
   "execution_count": 45,
   "metadata": {},
   "outputs": [
    {
     "data": {
      "text/plain": [
       "array([[5.3308308e-03],\n",
       "       [4.5654476e-03],\n",
       "       [4.6372414e-05],\n",
       "       ...,\n",
       "       [1.1415780e-03],\n",
       "       [7.1260333e-04],\n",
       "       [1.2378767e-03]], dtype=float32)"
      ]
     },
     "execution_count": 45,
     "metadata": {},
     "output_type": "execute_result"
    }
   ],
   "source": [
    "y_pred"
   ]
  },
  {
   "cell_type": "code",
   "execution_count": 46,
   "metadata": {},
   "outputs": [
    {
     "data": {
      "text/plain": [
       "array([False, False, False, ..., False, False, False])"
      ]
     },
     "execution_count": 46,
     "metadata": {},
     "output_type": "execute_result"
    }
   ],
   "source": [
    "y_test"
   ]
  },
  {
   "cell_type": "code",
   "execution_count": 47,
   "metadata": {},
   "outputs": [],
   "source": [
    "from sklearn.metrics import confusion_matrix"
   ]
  },
  {
   "cell_type": "code",
   "execution_count": 48,
   "metadata": {},
   "outputs": [
    {
     "data": {
      "text/plain": [
       "array([[63200,  1396],\n",
       "       [ 3287,  9922]])"
      ]
     },
     "execution_count": 48,
     "metadata": {},
     "output_type": "execute_result"
    }
   ],
   "source": [
    "confusion_matrix(y_test*1, y_pred>0.5)"
   ]
  },
  {
   "cell_type": "code",
   "execution_count": 49,
   "metadata": {},
   "outputs": [],
   "source": [
    "from sklearn.metrics import f1_score"
   ]
  },
  {
   "cell_type": "code",
   "execution_count": 50,
   "metadata": {},
   "outputs": [
    {
     "data": {
      "text/plain": [
       "0.809067558201166"
      ]
     },
     "execution_count": 50,
     "metadata": {},
     "output_type": "execute_result"
    }
   ],
   "source": [
    "f1_score(y_test*1, y_pred>0.5)"
   ]
  },
  {
   "cell_type": "code",
   "execution_count": null,
   "metadata": {},
   "outputs": [],
   "source": []
  }
 ],
 "metadata": {
  "kernelspec": {
   "display_name": "Python [conda env:CV]",
   "language": "python",
   "name": "conda-env-CV-py"
  },
  "language_info": {
   "codemirror_mode": {
    "name": "ipython",
    "version": 3
   },
   "file_extension": ".py",
   "mimetype": "text/x-python",
   "name": "python",
   "nbconvert_exporter": "python",
   "pygments_lexer": "ipython3",
   "version": "3.7.7"
  }
 },
 "nbformat": 4,
 "nbformat_minor": 2
}
