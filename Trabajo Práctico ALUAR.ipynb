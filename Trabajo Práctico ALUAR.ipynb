{
 "cells": [
  {
   "cell_type": "markdown",
   "metadata": {},
   "source": [
    "# Trabajo Práctico ALUAR 1\n",
    "\n",
    "1- Utilizando SQLite3 crear una base de datos que contenga los archivos \"Datos HITM_PS.xlsx\" y \"db_5mn.xlsx\" como dos tablas separadas (HITM_PS y 5mn respectivamente).\n",
    "\n",
    "2- Leer en un pandas DataFrame las columnas FT_TURNO, TU_SEMI_TURNO, CUBA, HBD, WRMI, TFOIN, TFAIN, NDAL2O3, NTEA y NIANO de la tabla HITM_PS.  \n",
    "\n",
    "3- Convertir la columna FT_TURNO a tipo datetime. Indicar el tiempo de inicio y fin de las mediciones.\n",
    "\n",
    "4- ¿De cuántas cubas se dispone información en el dataframe?\n",
    "\n",
    "5- Buscar las cubas que no tienen mediciones y eliminarlas del dataframe. Para ello evaluar la columna WRMI para cada cuba. Si la cuba tienen algún NaN en esta columna, descartar la cuba.\n",
    "\n",
    "6- Rellenar los NaN resultantes interpolando con el valor anterior.\n",
    "\n",
    "7- ¿De cuántas cubas se dispone información en el dataframe resultante?\n",
    "\n",
    "8- Graficar los histogramas para cada variable del dataframe.\n",
    "\n",
    "9- Convertir la columna TFAIN en una columna llamada TFAIN_label que tenga \"True\" si TFAIN >1 y \"False\" en caso contrario.\n",
    "\n",
    "10- Separar las observaciones en train, validación y test de manera que quede un 70% del dataset en train, 15% en validación y 15% en test. Estratificar utilizando la columna de labels generada en el punto anterior.\n",
    "\n",
    "11- Hacer un clasificador Naive Bayes Gaussiano que prediga la columna TFAIN_label en función de HBD, WRMI, TFOIN, NDAL2O3 y NTEA. Utilice el subset de train para entrenar el modelo y el de validación para buscar el mejor valor de smoothing.\n",
    "\n",
    "11bis- Hacer un clasificador Naive Bayes Gaussiano que prediga la columna TFAIN_label en función de HBD, WRMI, TFOIN, NDAL2O3 y NTEA y los k valores anteriores de estas variables.\n",
    "\n",
    "12- Graficar la matriz de confusión para tres umbrales de 0.25, 0.5 y 0.75 respectivamente para ambos casos. Para dichos umbrales informar el $F\\beta-score$. \n",
    "\n",
    "13- Graficar la curva ROC y calcular su área para ambos casos\n",
    "\n",
    "14- Repetir los puntos 11, 11bis, 12 y 13 para LDA, QDA, Regresión Logística y una Red Neuronal y comparar los clasificadores.\n"
   ]
  },
  {
   "cell_type": "code",
   "execution_count": 65,
   "metadata": {},
   "outputs": [
    {
     "name": "stdout",
     "output_type": "stream",
     "text": [
      "The autoreload extension is already loaded. To reload it, use:\n",
      "  %reload_ext autoreload\n"
     ]
    }
   ],
   "source": [
    "%load_ext autoreload\n",
    "%autoreload 2\n",
    "import pandas as pd\n",
    "from matplotlib import pyplot as plt\n",
    "import sqlite3\n",
    "import datetime"
   ]
  }
 ],
 "metadata": {
  "kernelspec": {
   "display_name": "Python [conda env:NLP]",
   "language": "python",
   "name": "conda-env-NLP-py"
  },
  "language_info": {
   "codemirror_mode": {
    "name": "ipython",
    "version": 3
   },
   "file_extension": ".py",
   "mimetype": "text/x-python",
   "name": "python",
   "nbconvert_exporter": "python",
   "pygments_lexer": "ipython3",
   "version": "3.7.3"
  }
 },
 "nbformat": 4,
 "nbformat_minor": 2
}
